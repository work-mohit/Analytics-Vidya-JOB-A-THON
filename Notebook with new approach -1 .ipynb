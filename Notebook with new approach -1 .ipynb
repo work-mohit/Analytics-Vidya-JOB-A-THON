{
 "cells": [
  {
   "cell_type": "code",
   "execution_count": 1,
   "id": "immediate-brisbane",
   "metadata": {},
   "outputs": [],
   "source": [
    "import pandas as pd \n",
    "import numpy as np\n",
    "import matplotlib.pyplot as plt\n",
    "import seaborn as sns \n",
    "%matplotlib inline \n",
    "\n",
    "import warnings\n",
    "warnings.filterwarnings(\"ignore\")\n",
    "\n",
    "from sklearn.model_selection import train_test_split,cross_val_predict,StratifiedKFold\n",
    "from sklearn.metrics import classification_report,roc_auc_score, accuracy_score, confusion_matrix\n",
    "from sklearn.model_selection import cross_val_score,RepeatedStratifiedKFold\n",
    "from sklearn.ensemble import VotingClassifier,RandomForestClassifier,AdaBoostClassifier\n",
    "from sklearn.tree import DecisionTreeClassifier\n",
    "from sklearn.ensemble import GradientBoostingClassifier\n",
    "from sklearn.preprocessing import LabelEncoder\n",
    "from sklearn.svm import SVC\n",
    "from sklearn.model_selection import GridSearchCV\n",
    "from xgboost import XGBClassifier\n",
    "from imblearn.over_sampling import SMOTE\n",
    "from imblearn.under_sampling import RandomUnderSampler\n",
    "from imblearn.pipeline import Pipeline"
   ]
  },
  {
   "cell_type": "code",
   "execution_count": 2,
   "id": "operating-literature",
   "metadata": {},
   "outputs": [],
   "source": [
    "\n",
    "\n",
    "train_df = pd.read_csv('input/train.csv')\n",
    "test_df = pd.read_csv('input/test.csv')"
   ]
  },
  {
   "cell_type": "code",
   "execution_count": 3,
   "id": "usual-archive",
   "metadata": {},
   "outputs": [],
   "source": [
    "train_df.drop(['Holding_Policy_Duration','Holding_Policy_Type'],axis=1,inplace=True)\n",
    "test_df.drop(['Holding_Policy_Duration','Holding_Policy_Type'],axis=1,inplace=True)"
   ]
  },
  {
   "cell_type": "code",
   "execution_count": 4,
   "id": "aerial-discrimination",
   "metadata": {},
   "outputs": [],
   "source": [
    "train_df['Accomodation_Type'] = train_df['Accomodation_Type'].map({'Rented' :0, 'Owned':1})\n",
    "dummy = pd.get_dummies(train_df['Accomodation_Type'], drop_first=True,prefix='Accomodation')\n",
    "train_df = pd.concat([train_df, dummy] , axis=1)\n",
    "train_df.drop('Accomodation_Type',axis=1,inplace=True)\n",
    "\n",
    "\n",
    "train_df['Is_Spouse'] = train_df['Is_Spouse'].map({'No' :0, 'Yes':1})\n",
    "dummy = pd.get_dummies(train_df['Is_Spouse'], drop_first=True,prefix='Is_Spouse')\n",
    "train_df = pd.concat([train_df, dummy] , axis=1)\n",
    "train_df.drop('Is_Spouse',axis=1,inplace=True)\n",
    "\n",
    "train_df['Reco_Insurance_Type'] = train_df['Reco_Insurance_Type'].map({'No' :0, 'Yes':1})\n",
    "dummy = pd.get_dummies(train_df['Reco_Insurance_Type'], drop_first=True,prefix='Reco_Insurance_Type')\n",
    "train_df = pd.concat([train_df, dummy] , axis=1)\n",
    "train_df.drop('Reco_Insurance_Type',axis=1,inplace=True)"
   ]
  },
  {
   "cell_type": "code",
   "execution_count": 5,
   "id": "utility-submission",
   "metadata": {},
   "outputs": [],
   "source": [
    "test_df['Accomodation_Type'] = test_df['Accomodation_Type'].map({'Rented' :0, 'Owned':1})\n",
    "dummy = pd.get_dummies(test_df['Accomodation_Type'], drop_first=True,prefix='Accomodation')\n",
    "test_df = pd.concat([test_df, dummy] , axis=1)\n",
    "test_df.drop('Accomodation_Type',axis=1,inplace=True)\n",
    "\n",
    "\n",
    "test_df['Is_Spouse'] = test_df['Is_Spouse'].map({'No' :0, 'Yes':1})\n",
    "dummy = pd.get_dummies(test_df['Is_Spouse'], drop_first=True,prefix='Is_Spouse')\n",
    "test_df = pd.concat([test_df, dummy] , axis=1)\n",
    "test_df.drop('Is_Spouse',axis=1,inplace=True)\n",
    "\n",
    "test_df['Reco_Insurance_Type'] = test_df['Reco_Insurance_Type'].map({'No' :0, 'Yes':1})\n",
    "dummy = pd.get_dummies(test_df['Reco_Insurance_Type'], drop_first=True,prefix='Reco_Insurance_Type')\n",
    "test_df = pd.concat([test_df, dummy] , axis=1)\n",
    "test_df.drop('Reco_Insurance_Type',axis=1,inplace=True)"
   ]
  },
  {
   "cell_type": "code",
   "execution_count": 6,
   "id": "subject-probability",
   "metadata": {},
   "outputs": [
    {
     "data": {
      "text/html": [
       "<div>\n",
       "<style scoped>\n",
       "    .dataframe tbody tr th:only-of-type {\n",
       "        vertical-align: middle;\n",
       "    }\n",
       "\n",
       "    .dataframe tbody tr th {\n",
       "        vertical-align: top;\n",
       "    }\n",
       "\n",
       "    .dataframe thead th {\n",
       "        text-align: right;\n",
       "    }\n",
       "</style>\n",
       "<table border=\"1\" class=\"dataframe\">\n",
       "  <thead>\n",
       "    <tr style=\"text-align: right;\">\n",
       "      <th></th>\n",
       "      <th>ID</th>\n",
       "      <th>City_Code</th>\n",
       "      <th>Region_Code</th>\n",
       "      <th>Upper_Age</th>\n",
       "      <th>Lower_Age</th>\n",
       "      <th>Health Indicator</th>\n",
       "      <th>Reco_Policy_Cat</th>\n",
       "      <th>Reco_Policy_Premium</th>\n",
       "      <th>Response</th>\n",
       "      <th>Accomodation_1</th>\n",
       "      <th>Is_Spouse_1</th>\n",
       "    </tr>\n",
       "  </thead>\n",
       "  <tbody>\n",
       "    <tr>\n",
       "      <th>0</th>\n",
       "      <td>1</td>\n",
       "      <td>C3</td>\n",
       "      <td>3213</td>\n",
       "      <td>36</td>\n",
       "      <td>36</td>\n",
       "      <td>X1</td>\n",
       "      <td>22</td>\n",
       "      <td>11628.0</td>\n",
       "      <td>0</td>\n",
       "      <td>0</td>\n",
       "      <td>0</td>\n",
       "    </tr>\n",
       "    <tr>\n",
       "      <th>1</th>\n",
       "      <td>2</td>\n",
       "      <td>C5</td>\n",
       "      <td>1117</td>\n",
       "      <td>75</td>\n",
       "      <td>22</td>\n",
       "      <td>X2</td>\n",
       "      <td>22</td>\n",
       "      <td>30510.0</td>\n",
       "      <td>0</td>\n",
       "      <td>1</td>\n",
       "      <td>0</td>\n",
       "    </tr>\n",
       "    <tr>\n",
       "      <th>2</th>\n",
       "      <td>3</td>\n",
       "      <td>C5</td>\n",
       "      <td>3732</td>\n",
       "      <td>32</td>\n",
       "      <td>32</td>\n",
       "      <td>NaN</td>\n",
       "      <td>19</td>\n",
       "      <td>7450.0</td>\n",
       "      <td>1</td>\n",
       "      <td>1</td>\n",
       "      <td>0</td>\n",
       "    </tr>\n",
       "    <tr>\n",
       "      <th>3</th>\n",
       "      <td>4</td>\n",
       "      <td>C24</td>\n",
       "      <td>4378</td>\n",
       "      <td>52</td>\n",
       "      <td>48</td>\n",
       "      <td>X1</td>\n",
       "      <td>19</td>\n",
       "      <td>17780.0</td>\n",
       "      <td>0</td>\n",
       "      <td>1</td>\n",
       "      <td>0</td>\n",
       "    </tr>\n",
       "    <tr>\n",
       "      <th>4</th>\n",
       "      <td>5</td>\n",
       "      <td>C8</td>\n",
       "      <td>2190</td>\n",
       "      <td>44</td>\n",
       "      <td>44</td>\n",
       "      <td>X2</td>\n",
       "      <td>16</td>\n",
       "      <td>10404.0</td>\n",
       "      <td>0</td>\n",
       "      <td>0</td>\n",
       "      <td>0</td>\n",
       "    </tr>\n",
       "  </tbody>\n",
       "</table>\n",
       "</div>"
      ],
      "text/plain": [
       "   ID City_Code  Region_Code  Upper_Age  Lower_Age Health Indicator  \\\n",
       "0   1        C3         3213         36         36               X1   \n",
       "1   2        C5         1117         75         22               X2   \n",
       "2   3        C5         3732         32         32              NaN   \n",
       "3   4       C24         4378         52         48               X1   \n",
       "4   5        C8         2190         44         44               X2   \n",
       "\n",
       "   Reco_Policy_Cat  Reco_Policy_Premium  Response  Accomodation_1  Is_Spouse_1  \n",
       "0               22              11628.0         0               0            0  \n",
       "1               22              30510.0         0               1            0  \n",
       "2               19               7450.0         1               1            0  \n",
       "3               19              17780.0         0               1            0  \n",
       "4               16              10404.0         0               0            0  "
      ]
     },
     "execution_count": 6,
     "metadata": {},
     "output_type": "execute_result"
    }
   ],
   "source": [
    "train_df.head(5)"
   ]
  },
  {
   "cell_type": "code",
   "execution_count": 7,
   "id": "substantial-island",
   "metadata": {},
   "outputs": [],
   "source": [
    "dummy_data_train = train_df.copy()\n",
    "dummy_data_test = test_df.copy()"
   ]
  },
  {
   "cell_type": "code",
   "execution_count": 8,
   "id": "regulated-representation",
   "metadata": {},
   "outputs": [],
   "source": [
    "col = ['Upper_Age','Lower_Age','Accomodation_1','Reco_Policy_Cat','Reco_Policy_Premium','Is_Spouse_1','Health Indicator']\n",
    "df = dummy_data_train[col]\n",
    "test_df = df[df[\"Health Indicator\"].isnull()]\n",
    "df = df.dropna()\n",
    "\n",
    "y_train = df[\"Health Indicator\"]\n",
    "X_train = df.drop(\"Health Indicator\", axis=1)\n",
    "X_test = test_df.drop(\"Health Indicator\", axis=1)\n",
    "\n",
    "#train model to fit dataset and predict missing values from column \n",
    "rf = RandomForestClassifier()\n",
    "rf.fit(X_train, y_train)\n",
    "y_pred = rf.predict(X_test)\n",
    "\n",
    "#replace the missing values with predicted values\n",
    "dummy_data_train.loc[dummy_data_train['Health Indicator'].isnull(), 'Health Indicator'] = y_pred"
   ]
  },
  {
   "cell_type": "code",
   "execution_count": 9,
   "id": "unlimited-mongolia",
   "metadata": {},
   "outputs": [],
   "source": [
    "col = ['Upper_Age','Lower_Age','Accomodation_1','Reco_Policy_Cat','Reco_Policy_Premium','Is_Spouse_1','Health Indicator']\n",
    "df = dummy_data_test[col]\n",
    "test_df = df[df[\"Health Indicator\"].isnull()]\n",
    "df = df.dropna()\n",
    "\n",
    "y_train = df[\"Health Indicator\"]\n",
    "X_train = df.drop(\"Health Indicator\", axis=1)\n",
    "X_test = test_df.drop(\"Health Indicator\", axis=1)\n",
    "\n",
    "#train model to fit dataset and predict missing values from column \n",
    "rf = RandomForestClassifier()\n",
    "rf.fit(X_train, y_train)\n",
    "y_pred = rf.predict(X_test)\n",
    "\n",
    "#replace the missing values with predicted values\n",
    "dummy_data_test.loc[dummy_data_test['Health Indicator'].isnull(), 'Health Indicator'] = y_pred"
   ]
  },
  {
   "cell_type": "code",
   "execution_count": 17,
   "id": "republican-intelligence",
   "metadata": {},
   "outputs": [
    {
     "data": {
      "text/plain": [
       "array(['X1', 'X3', 'X2', 'X5', 'X4', 'X7', 'X6', 'X9', 'X8'], dtype=object)"
      ]
     },
     "execution_count": 17,
     "metadata": {},
     "output_type": "execute_result"
    }
   ],
   "source": [
    "dummy_data_test['Health Indicator'].unique()"
   ]
  },
  {
   "cell_type": "code",
   "execution_count": 26,
   "id": "recent-assignment",
   "metadata": {},
   "outputs": [],
   "source": []
  },
  {
   "cell_type": "code",
   "execution_count": null,
   "id": "suburban-athletics",
   "metadata": {},
   "outputs": [],
   "source": []
  },
  {
   "cell_type": "code",
   "execution_count": 27,
   "id": "breeding-israeli",
   "metadata": {},
   "outputs": [],
   "source": []
  },
  {
   "cell_type": "code",
   "execution_count": 11,
   "id": "informative-colon",
   "metadata": {},
   "outputs": [
    {
     "data": {
      "text/html": [
       "<div>\n",
       "<style scoped>\n",
       "    .dataframe tbody tr th:only-of-type {\n",
       "        vertical-align: middle;\n",
       "    }\n",
       "\n",
       "    .dataframe tbody tr th {\n",
       "        vertical-align: top;\n",
       "    }\n",
       "\n",
       "    .dataframe thead th {\n",
       "        text-align: right;\n",
       "    }\n",
       "</style>\n",
       "<table border=\"1\" class=\"dataframe\">\n",
       "  <thead>\n",
       "    <tr style=\"text-align: right;\">\n",
       "      <th></th>\n",
       "      <th>ID</th>\n",
       "      <th>City_Code</th>\n",
       "      <th>Region_Code</th>\n",
       "      <th>Upper_Age</th>\n",
       "      <th>Lower_Age</th>\n",
       "      <th>Health Indicator</th>\n",
       "      <th>Reco_Policy_Cat</th>\n",
       "      <th>Reco_Policy_Premium</th>\n",
       "      <th>Response</th>\n",
       "      <th>Accomodation_1</th>\n",
       "      <th>Is_Spouse_1</th>\n",
       "    </tr>\n",
       "  </thead>\n",
       "  <tbody>\n",
       "    <tr>\n",
       "      <th>0</th>\n",
       "      <td>1</td>\n",
       "      <td>C3</td>\n",
       "      <td>3213</td>\n",
       "      <td>36</td>\n",
       "      <td>36</td>\n",
       "      <td>X1</td>\n",
       "      <td>22</td>\n",
       "      <td>11628.0</td>\n",
       "      <td>0</td>\n",
       "      <td>0</td>\n",
       "      <td>0</td>\n",
       "    </tr>\n",
       "    <tr>\n",
       "      <th>1</th>\n",
       "      <td>2</td>\n",
       "      <td>C5</td>\n",
       "      <td>1117</td>\n",
       "      <td>75</td>\n",
       "      <td>22</td>\n",
       "      <td>X2</td>\n",
       "      <td>22</td>\n",
       "      <td>30510.0</td>\n",
       "      <td>0</td>\n",
       "      <td>1</td>\n",
       "      <td>0</td>\n",
       "    </tr>\n",
       "    <tr>\n",
       "      <th>2</th>\n",
       "      <td>3</td>\n",
       "      <td>C5</td>\n",
       "      <td>3732</td>\n",
       "      <td>32</td>\n",
       "      <td>32</td>\n",
       "      <td>X1</td>\n",
       "      <td>19</td>\n",
       "      <td>7450.0</td>\n",
       "      <td>1</td>\n",
       "      <td>1</td>\n",
       "      <td>0</td>\n",
       "    </tr>\n",
       "    <tr>\n",
       "      <th>3</th>\n",
       "      <td>4</td>\n",
       "      <td>C24</td>\n",
       "      <td>4378</td>\n",
       "      <td>52</td>\n",
       "      <td>48</td>\n",
       "      <td>X1</td>\n",
       "      <td>19</td>\n",
       "      <td>17780.0</td>\n",
       "      <td>0</td>\n",
       "      <td>1</td>\n",
       "      <td>0</td>\n",
       "    </tr>\n",
       "    <tr>\n",
       "      <th>4</th>\n",
       "      <td>5</td>\n",
       "      <td>C8</td>\n",
       "      <td>2190</td>\n",
       "      <td>44</td>\n",
       "      <td>44</td>\n",
       "      <td>X2</td>\n",
       "      <td>16</td>\n",
       "      <td>10404.0</td>\n",
       "      <td>0</td>\n",
       "      <td>0</td>\n",
       "      <td>0</td>\n",
       "    </tr>\n",
       "  </tbody>\n",
       "</table>\n",
       "</div>"
      ],
      "text/plain": [
       "   ID City_Code  Region_Code  Upper_Age  Lower_Age Health Indicator  \\\n",
       "0   1        C3         3213         36         36               X1   \n",
       "1   2        C5         1117         75         22               X2   \n",
       "2   3        C5         3732         32         32               X1   \n",
       "3   4       C24         4378         52         48               X1   \n",
       "4   5        C8         2190         44         44               X2   \n",
       "\n",
       "   Reco_Policy_Cat  Reco_Policy_Premium  Response  Accomodation_1  Is_Spouse_1  \n",
       "0               22              11628.0         0               0            0  \n",
       "1               22              30510.0         0               1            0  \n",
       "2               19               7450.0         1               1            0  \n",
       "3               19              17780.0         0               1            0  \n",
       "4               16              10404.0         0               0            0  "
      ]
     },
     "execution_count": 11,
     "metadata": {},
     "output_type": "execute_result"
    }
   ],
   "source": [
    "dummy_data_train.head(5)"
   ]
  },
  {
   "cell_type": "code",
   "execution_count": 12,
   "id": "editorial-outline",
   "metadata": {},
   "outputs": [],
   "source": [
    "le = LabelEncoder()\n",
    "le.fit(dummy_data_train['City_Code'])\n",
    "dummy_data_train['City_Code'] = le.transform(dummy_data_train['City_Code'])\n",
    "dummy_data_test['City_Code'] = le.transform(dummy_data_test['City_Code'])"
   ]
  },
  {
   "cell_type": "code",
   "execution_count": 13,
   "id": "radio-positive",
   "metadata": {},
   "outputs": [],
   "source": [
    "le.fit(dummy_data_train['Health Indicator'])\n",
    "dummy_data_train['Health Indicator'] = le.transform(dummy_data_train['Health Indicator'])\n",
    "dummy_data_test['Health Indicator'] = le.transform(dummy_data_test['Health Indicator'])"
   ]
  },
  {
   "cell_type": "code",
   "execution_count": 15,
   "id": "instructional-thickness",
   "metadata": {},
   "outputs": [],
   "source": [
    "dummy_data_train.drop('ID',axis=1,inplace=True)"
   ]
  },
  {
   "cell_type": "code",
   "execution_count": 18,
   "id": "european-basket",
   "metadata": {},
   "outputs": [],
   "source": [
    "dummy_data_train.to_csv('new_approach/final_data_train.csv')\n",
    "dummy_data_test.to_csv('new_approach/final_data_test.csv')"
   ]
  },
  {
   "cell_type": "code",
   "execution_count": 34,
   "id": "technological-champagne",
   "metadata": {},
   "outputs": [],
   "source": [
    "\n",
    "\n",
    "X = dummy_data_train.drop(['Response'],axis=1)\n",
    "y = dummy_data_train.Response\n"
   ]
  },
  {
   "cell_type": "code",
   "execution_count": 35,
   "id": "finite-equity",
   "metadata": {},
   "outputs": [],
   "source": [
    "X_train, X_test, y_train, y_test = train_test_split(X, y, test_size=0.25, random_state=42)"
   ]
  },
  {
   "cell_type": "code",
   "execution_count": 50,
   "id": "compatible-satellite",
   "metadata": {},
   "outputs": [],
   "source": [
    "rf = RandomForestClassifier(n_estimators=500, max_depth=10)\n",
    "rf.fit(X_train, y_train)\n",
    "y_pred = rf.predict_proba(X_test)"
   ]
  },
  {
   "cell_type": "code",
   "execution_count": 51,
   "id": "turkish-knowing",
   "metadata": {},
   "outputs": [
    {
     "data": {
      "text/plain": [
       "0.6334028195894441"
      ]
     },
     "execution_count": 51,
     "metadata": {},
     "output_type": "execute_result"
    }
   ],
   "source": [
    "y_pred = y_pred[:, 1]\n",
    "roc_auc_score(y_test,y_pred)"
   ]
  },
  {
   "cell_type": "code",
   "execution_count": 3,
   "id": "wound-alias",
   "metadata": {},
   "outputs": [],
   "source": [
    "def correlation(dataset, threshold):\n",
    "    col_corr = set()  # Set of all the names of correlated columns\n",
    "    corr_matrix = dataset.corr()\n",
    "    for i in range(len(corr_matrix.columns)):\n",
    "        for j in range(i):\n",
    "            if abs(corr_matrix.iloc[i, j]) > threshold: # we are interested in absolute coeff value\n",
    "                colname = corr_matrix.columns[i]  # getting the name of column\n",
    "                col_corr.add(colname)\n",
    "    return col_corr"
   ]
  },
  {
   "cell_type": "code",
   "execution_count": 4,
   "id": "floppy-pursuit",
   "metadata": {},
   "outputs": [
    {
     "data": {
      "text/plain": [
       "{'Lower_Age', 'Reco_Policy_Premium'}"
      ]
     },
     "execution_count": 4,
     "metadata": {},
     "output_type": "execute_result"
    }
   ],
   "source": [
    "corr_features = correlation(dummy_data_train, 0.7)\n",
    "corr_features"
   ]
  },
  {
   "cell_type": "code",
   "execution_count": 11,
   "id": "incorporated-print",
   "metadata": {},
   "outputs": [],
   "source": [
    "X = dummy_data_train.drop(['Response'],axis=1)\n",
    "y = dummy_data_train.Response"
   ]
  },
  {
   "cell_type": "code",
   "execution_count": 12,
   "id": "liked-mailman",
   "metadata": {},
   "outputs": [
    {
     "data": {
      "text/plain": [
       "0.6284575788578237"
      ]
     },
     "execution_count": 12,
     "metadata": {},
     "output_type": "execute_result"
    }
   ],
   "source": [
    "\n",
    "X_train, X_test, y_train, y_test = train_test_split(X, y, test_size=0.25, random_state=42)\n",
    "rf = GradientBoostingClassifier()\n",
    "rf.fit(X_train, y_train),\n",
    "y_pred = rf.predict(X_test)\n",
    "prob = rf.predict_proba(X_test)\n",
    "prob = prob[:, 1]\n",
    "\n",
    "roc_auc_score(y_test,prob)"
   ]
  },
  {
   "cell_type": "code",
   "execution_count": 13,
   "id": "expressed-blake",
   "metadata": {},
   "outputs": [
    {
     "data": {
      "text/plain": [
       "0.7546576527002594"
      ]
     },
     "execution_count": 13,
     "metadata": {},
     "output_type": "execute_result"
    }
   ],
   "source": [
    "accuracy_score(y_test,y_pred)"
   ]
  },
  {
   "cell_type": "code",
   "execution_count": 14,
   "id": "understood-suicide",
   "metadata": {},
   "outputs": [
    {
     "name": "stdout",
     "output_type": "stream",
     "text": [
      "              precision    recall  f1-score   support\n",
      "\n",
      "           0       0.75      1.00      0.86      9605\n",
      "           1       0.00      0.00      0.00      3116\n",
      "\n",
      "    accuracy                           0.75     12721\n",
      "   macro avg       0.38      0.50      0.43     12721\n",
      "weighted avg       0.57      0.75      0.65     12721\n",
      "\n"
     ]
    }
   ],
   "source": [
    "print(classification_report(y_test, y_pred))"
   ]
  },
  {
   "cell_type": "code",
   "execution_count": 15,
   "id": "alternate-metadata",
   "metadata": {},
   "outputs": [
    {
     "data": {
      "text/plain": [
       "array([[9600,    5],\n",
       "       [3116,    0]], dtype=int64)"
      ]
     },
     "execution_count": 15,
     "metadata": {},
     "output_type": "execute_result"
    }
   ],
   "source": [
    "confusion_matrix(y_test, y_pred)"
   ]
  },
  {
   "cell_type": "code",
   "execution_count": 54,
   "id": "canadian-luxury",
   "metadata": {},
   "outputs": [],
   "source": [
    "def make_csv(name , ID_col, prob):\n",
    "    prob = prob[:, 1]\n",
    "    final_csv = pd.DataFrame(list(zip(ID_col,prob)) ,columns =['ID', 'Response'])\n",
    "    final_csv.to_csv(name,index=False)"
   ]
  },
  {
   "cell_type": "code",
   "execution_count": 56,
   "id": "delayed-satisfaction",
   "metadata": {},
   "outputs": [],
   "source": [
    "ID_col = dummy_data_test.ID\n",
    "test_me = dummy_data_test.drop(['ID','Lower_Age'],axis=1)\n",
    "\n",
    "p = rf.predict_proba(test_me)\n",
    "make_csv('gboosting.csv',ID_col, p)"
   ]
  },
  {
   "cell_type": "markdown",
   "id": "spread-bullet",
   "metadata": {},
   "source": [
    "## with undersampling using SMOTE"
   ]
  },
  {
   "cell_type": "code",
   "execution_count": 13,
   "id": "advanced-latex",
   "metadata": {},
   "outputs": [],
   "source": [
    "dummy_data_train= pd.read_csv('new_approach/final_data_train.csv')\n",
    "dummy_data_test = pd.read_csv('new_approach/final_data_test.csv')"
   ]
  },
  {
   "cell_type": "code",
   "execution_count": 14,
   "id": "existing-ground",
   "metadata": {},
   "outputs": [],
   "source": [
    "X = dummy_data_train.drop(['Response','Lower_Age'],axis=1)\n",
    "y = dummy_data_train.Response"
   ]
  },
  {
   "cell_type": "code",
   "execution_count": 9,
   "id": "unexpected-birth",
   "metadata": {},
   "outputs": [
    {
     "name": "stdout",
     "output_type": "stream",
     "text": [
      "Mean ROC AUC: 0.584\n"
     ]
    }
   ],
   "source": [
    "# steps = [('over', SMOTE()),('under',RandomUnderSampler()) ('model',GradientBoostingClassifier())]\n",
    "# pipeline = Pipeline(steps=steps)\n",
    "# # evaluate pipeline\n",
    "# cv = RepeatedStratifiedKFold(n_splits=10, n_repeats=3, random_state=1)\n",
    "# scores = cross_val_score(pipeline, X, y, scoring='roc_auc', cv=cv, n_jobs=-1)\n",
    "# print('Mean ROC AUC: %.3f' % np.mean(scores))\n",
    "\n",
    "model = RandomForestClassifier()\n",
    "over = SMOTE()\n",
    "\n",
    "steps = [('over', over), ('model', model)]\n",
    "pipeline = Pipeline(steps=steps)\n",
    "# evaluate pipeline\n",
    "cv = RepeatedStratifiedKFold(n_splits=10, n_repeats=3, random_state=1)\n",
    "scores = cross_val_score(pipeline, X, y, scoring='roc_auc', cv=cv, n_jobs=-1)\n",
    "print('Mean ROC AUC: %.3f' % np.mean(scores))"
   ]
  },
  {
   "cell_type": "code",
   "execution_count": 8,
   "id": "supreme-favorite",
   "metadata": {},
   "outputs": [
    {
     "data": {
      "text/plain": [
       "nan"
      ]
     },
     "execution_count": 8,
     "metadata": {},
     "output_type": "execute_result"
    }
   ],
   "source": [
    "np.mean(scores)"
   ]
  },
  {
   "cell_type": "code",
   "execution_count": 36,
   "id": "humanitarian-jesus",
   "metadata": {},
   "outputs": [
    {
     "name": "stdout",
     "output_type": "stream",
     "text": [
      "> k=1, Mean ROC AUC: 0.590\n",
      "> k=2, Mean ROC AUC: 0.590\n",
      "> k=3, Mean ROC AUC: 0.589\n",
      "> k=4, Mean ROC AUC: 0.590\n",
      "> k=5, Mean ROC AUC: 0.589\n",
      "> k=6, Mean ROC AUC: 0.590\n",
      "> k=7, Mean ROC AUC: 0.590\n"
     ]
    }
   ],
   "source": [
    "k_values = [1, 2, 3, 4, 5, 6, 7]\n",
    "for k in k_values:\n",
    "    # define pipeline\n",
    "    model = RandomForestClassifier()\n",
    "    over = SMOTE( k_neighbors=k)\n",
    "    steps = [('over', over), ('model', model)]\n",
    "    pipeline = Pipeline(steps=steps)\n",
    "    # evaluate pipeline\n",
    "    cv = RepeatedStratifiedKFold(n_splits=10, n_repeats=3, random_state=1)\n",
    "    scores = cross_val_score(pipeline, X, y, scoring='roc_auc', cv=cv, n_jobs=-1)\n",
    "    score = np.mean(scores)\n",
    "    print('> k=%d, Mean ROC AUC: %.3f' % (k, score))"
   ]
  },
  {
   "cell_type": "code",
   "execution_count": 62,
   "id": "charged-joining",
   "metadata": {},
   "outputs": [
    {
     "name": "stdout",
     "output_type": "stream",
     "text": [
      "Fitting 5 folds for each of 120 candidates, totalling 600 fits\n",
      "GradientBoostingClassifier(learning_rate=0.2, max_depth=1, n_estimators=400)\n",
      "0.6154613733086665\n"
     ]
    }
   ],
   "source": [
    "gb = GradientBoostingClassifier()\n",
    "params = {\n",
    "    'learning_rate':[0.1,0.12,0.15,0.2,0.25],\n",
    "    'n_estimators':[100,200,300,400,500,1000],\n",
    "    'max_depth' : [1,3,5,10]\n",
    "    \n",
    "    \n",
    "}\n",
    "grid_gb = GridSearchCV(estimator = gb,\n",
    "                        param_grid = params,\n",
    "                        scoring = 'roc_auc', \n",
    "                        cv = 5, \n",
    "                        verbose = 3,\n",
    "                        n_jobs = -1)\n",
    "grid_gb.fit(X, y)\n",
    "print(grid_gb.best_estimator_), \n",
    "print(grid_gb.best_score_)"
   ]
  },
  {
   "cell_type": "code",
   "execution_count": 63,
   "id": "geographic-dodge",
   "metadata": {},
   "outputs": [
    {
     "data": {
      "text/plain": [
       "0.6201944891239921"
      ]
     },
     "execution_count": 63,
     "metadata": {},
     "output_type": "execute_result"
    }
   ],
   "source": [
    "\n",
    "\n",
    "X_train, X_test, y_train, y_test = train_test_split(X, y, test_size=0.25, random_state=42)\n",
    "rf = GradientBoostingClassifier(learning_rate=0.2, max_depth=1, n_estimators=400)\n",
    "rf.fit(X_train, y_train),\n",
    "y_pred = rf.predict(X_test)\n",
    "prob = rf.predict_proba(X_test)\n",
    "prob = prob[:, 1]\n",
    "\n",
    "roc_auc_score(y_test,prob)"
   ]
  },
  {
   "cell_type": "code",
   "execution_count": 15,
   "id": "similar-warning",
   "metadata": {},
   "outputs": [
    {
     "data": {
      "text/plain": [
       "VotingClassifier(estimators=[('random_forest', RandomForestClassifier()),\n",
       "                             ('gboost',\n",
       "                              GradientBoostingClassifier(learning_rate=0.15,\n",
       "                                                         max_depth=10,\n",
       "                                                         n_estimators=1000))])"
      ]
     },
     "execution_count": 15,
     "metadata": {},
     "output_type": "execute_result"
    }
   ],
   "source": [
    "X_train, X_test, y_train, y_test = train_test_split(X, y, test_size=0.25, random_state=42)\n",
    "models = [('random_forest',RandomForestClassifier()), ('gboost',GradientBoostingClassifier(n_estimators=1000, learning_rate=0.15,max_depth=10))]\n",
    "vc = VotingClassifier(models , voting='hard')\n",
    "vc.fit(X_train,y_train)"
   ]
  },
  {
   "cell_type": "code",
   "execution_count": 16,
   "id": "armed-sheet",
   "metadata": {},
   "outputs": [
    {
     "ename": "AttributeError",
     "evalue": "predict_proba is not available when voting='hard'",
     "output_type": "error",
     "traceback": [
      "\u001b[1;31m---------------------------------------------------------------------------\u001b[0m",
      "\u001b[1;31mAttributeError\u001b[0m                            Traceback (most recent call last)",
      "\u001b[1;32m<ipython-input-16-d975b522452d>\u001b[0m in \u001b[0;36m<module>\u001b[1;34m\u001b[0m\n\u001b[0;32m      1\u001b[0m \u001b[0my_pred\u001b[0m \u001b[1;33m=\u001b[0m \u001b[0mvc\u001b[0m\u001b[1;33m.\u001b[0m\u001b[0mpredict\u001b[0m\u001b[1;33m(\u001b[0m\u001b[0mX_test\u001b[0m\u001b[1;33m)\u001b[0m\u001b[1;33m\u001b[0m\u001b[1;33m\u001b[0m\u001b[0m\n\u001b[1;32m----> 2\u001b[1;33m \u001b[0mprob\u001b[0m \u001b[1;33m=\u001b[0m \u001b[0mvc\u001b[0m\u001b[1;33m.\u001b[0m\u001b[0mpredict_proba\u001b[0m\u001b[1;33m(\u001b[0m\u001b[0mX_test\u001b[0m\u001b[1;33m)\u001b[0m\u001b[1;33m\u001b[0m\u001b[1;33m\u001b[0m\u001b[0m\n\u001b[0m\u001b[0;32m      3\u001b[0m \u001b[0mprob\u001b[0m \u001b[1;33m=\u001b[0m \u001b[0mprob\u001b[0m\u001b[1;33m[\u001b[0m\u001b[1;33m:\u001b[0m\u001b[1;33m,\u001b[0m \u001b[1;36m1\u001b[0m\u001b[1;33m]\u001b[0m\u001b[1;33m\u001b[0m\u001b[1;33m\u001b[0m\u001b[0m\n\u001b[0;32m      4\u001b[0m \u001b[1;33m\u001b[0m\u001b[0m\n\u001b[0;32m      5\u001b[0m \u001b[0mroc_auc_score\u001b[0m\u001b[1;33m(\u001b[0m\u001b[0my_test\u001b[0m\u001b[1;33m,\u001b[0m\u001b[0mprob\u001b[0m\u001b[1;33m)\u001b[0m\u001b[1;33m\u001b[0m\u001b[1;33m\u001b[0m\u001b[0m\n",
      "\u001b[1;32m~\\Anaconda3\\lib\\site-packages\\sklearn\\ensemble\\_voting.py\u001b[0m in \u001b[0;36mpredict_proba\u001b[1;34m(self)\u001b[0m\n\u001b[0;32m    347\u001b[0m         \u001b[1;32mif\u001b[0m \u001b[0mself\u001b[0m\u001b[1;33m.\u001b[0m\u001b[0mvoting\u001b[0m \u001b[1;33m==\u001b[0m \u001b[1;34m'hard'\u001b[0m\u001b[1;33m:\u001b[0m\u001b[1;33m\u001b[0m\u001b[1;33m\u001b[0m\u001b[0m\n\u001b[0;32m    348\u001b[0m             raise AttributeError(\"predict_proba is not available when\"\n\u001b[1;32m--> 349\u001b[1;33m                                  \" voting=%r\" % self.voting)\n\u001b[0m\u001b[0;32m    350\u001b[0m         \u001b[1;32mreturn\u001b[0m \u001b[0mself\u001b[0m\u001b[1;33m.\u001b[0m\u001b[0m_predict_proba\u001b[0m\u001b[1;33m\u001b[0m\u001b[1;33m\u001b[0m\u001b[0m\n\u001b[0;32m    351\u001b[0m \u001b[1;33m\u001b[0m\u001b[0m\n",
      "\u001b[1;31mAttributeError\u001b[0m: predict_proba is not available when voting='hard'"
     ]
    }
   ],
   "source": [
    "y_pred = vc.predict(X_test)\n",
    "# prob = vc.predict(X_test)\n",
    "# prob = prob[:, 1]\n",
    "\n",
    "roc_auc_score(y_test,y_pred)"
   ]
  },
  {
   "cell_type": "code",
   "execution_count": 17,
   "id": "forced-sphere",
   "metadata": {},
   "outputs": [
    {
     "data": {
      "text/plain": [
       "0.5080177438874035"
      ]
     },
     "execution_count": 17,
     "metadata": {},
     "output_type": "execute_result"
    }
   ],
   "source": [
    "roc_auc_score(y_test,y_pred)"
   ]
  },
  {
   "cell_type": "code",
   "execution_count": null,
   "id": "suitable-martin",
   "metadata": {},
   "outputs": [],
   "source": []
  }
 ],
 "metadata": {
  "kernelspec": {
   "display_name": "Python 3",
   "language": "python",
   "name": "python3"
  },
  "language_info": {
   "codemirror_mode": {
    "name": "ipython",
    "version": 3
   },
   "file_extension": ".py",
   "mimetype": "text/x-python",
   "name": "python",
   "nbconvert_exporter": "python",
   "pygments_lexer": "ipython3",
   "version": "3.7.9"
  },
  "toc": {
   "base_numbering": 1,
   "nav_menu": {},
   "number_sections": true,
   "sideBar": true,
   "skip_h1_title": false,
   "title_cell": "Table of Contents",
   "title_sidebar": "Contents",
   "toc_cell": false,
   "toc_position": {},
   "toc_section_display": true,
   "toc_window_display": false
  }
 },
 "nbformat": 4,
 "nbformat_minor": 5
}
